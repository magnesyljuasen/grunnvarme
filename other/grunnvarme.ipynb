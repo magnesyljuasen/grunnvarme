{
 "cells": [
  {
   "attachments": {},
   "cell_type": "markdown",
   "metadata": {},
   "source": [
    "# Bergvarmekalkulatoren 2.0"
   ]
  },
  {
   "attachments": {},
   "cell_type": "markdown",
   "metadata": {},
   "source": [
    "Oppløsning time for time. Energibehov må baseres på PROFet.\n",
    "\n",
    "Funksjonalitet: \n",
    "- Lokalitet -> grunnforhold -> GIS\n",
    "- Utetemperatur (FROST | NS3031:2014)\n",
    "- COPCALC\n",
    "- \n",
    "\n",
    "- Ta inn historiske/dagens strømpriser (API)\n",
    "- Estimere energibehov (PROFet/API)  \n",
    "- "
   ]
  },
  {
   "cell_type": "code",
   "execution_count": null,
   "metadata": {},
   "outputs": [],
   "source": []
  }
 ],
 "metadata": {
  "kernelspec": {
   "display_name": ".venv",
   "language": "python",
   "name": "python3"
  },
  "language_info": {
   "codemirror_mode": {
    "name": "ipython",
    "version": 3
   },
   "file_extension": ".py",
   "mimetype": "text/x-python",
   "name": "python",
   "nbconvert_exporter": "python",
   "pygments_lexer": "ipython3",
   "version": "3.10.1"
  },
  "orig_nbformat": 4,
  "vscode": {
   "interpreter": {
    "hash": "c77bc22453ac5f9e7f2482d9facd751dc40be0d24ca7965dd568e45a7888fecd"
   }
  }
 },
 "nbformat": 4,
 "nbformat_minor": 2
}
